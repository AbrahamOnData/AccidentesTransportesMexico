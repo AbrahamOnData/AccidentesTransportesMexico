{
 "cells": [
  {
   "cell_type": "code",
   "execution_count": null,
   "id": "5923c9d7",
   "metadata": {},
   "outputs": [],
   "source": [
    "#Primero cargo mis librerías\n",
    "import os\n",
    "import pandas as pd\n",
    "import numpy as np\n",
    "from siuba import *\n",
    "from siuba.dply.vector import *\n",
    "from plotnine import *"
   ]
  },
  {
   "cell_type": "code",
   "execution_count": null,
   "id": "9ad658c7",
   "metadata": {
    "scrolled": false
   },
   "outputs": [],
   "source": [
    "#Elijo la carpeta donde están los catálogos\n",
    "os.chdir('C:\\\\Users\\\\jaker\\\\Documents\\\\Bases de Datos\\\\INEGI\\\\Accidentes de Transportes atus_anual_csv\\\\catalogos')\n",
    "#Cargo los catalogos de códigos uno por uno\n",
    "dias = pd.read_csv('tc_dia.csv',index_col=False,na_values=['No especificado',32])\n",
    "edades = pd.read_csv('tc_edad.csv',index_col=False,na_values=['No especificado','Se ignora por que se fugó'])\n",
    "entidades = pd.read_csv('tc_entidad.csv',index_col=False)\n",
    "municipios = pd.read_csv('tc_municipio.csv',index_col=False)\n",
    "meses = pd.read_csv('tc_periodo_mes.csv',index_col=False)\n",
    "minutos = pd.read_csv('tc_minuto.csv',index_col=False,na_values=['No especificado',99])\n",
    "horas = pd.read_csv('tc_hora.csv',index_col=False,na_values=['No especificado',99])"
   ]
  },
  {
   "cell_type": "code",
   "execution_count": null,
   "id": "20220b20",
   "metadata": {},
   "outputs": [],
   "source": [
    "# Corrección de tipo de dato de catalogos\n",
    "dias['DESC_DIA'] = dias['DESC_DIA'].astype('Int64')\n",
    "minutos['DESC_MINUTO'] = minutos['DESC_MINUTO'].astype('Int64')\n",
    "horas['DESC_HORA'] = horas['DESC_HORA'].astype('Int64')\n",
    "edades['DESC_EDAD'] = edades['DESC_EDAD'].astype('Int64')"
   ]
  },
  {
   "cell_type": "code",
   "execution_count": null,
   "id": "e1540ff1",
   "metadata": {
    "scrolled": false
   },
   "outputs": [],
   "source": [
    "#Elijo la carpeta donde está la tabla principal\n",
    "os.chdir('C:\\\\Users\\\\jaker\\\\Documents\\\\Bases de Datos\\\\INEGI\\\\Accidentes de Transportes atus_anual_csv\\\\conjunto_de_datos')\n",
    "#Creo una función que me permita agregar todos los archivos al mismo tiempo \"por comprensión\"\n",
    "accidentes = [pd.read_csv(x,index_col=False) for x in os.listdir() if x.startswith('atus')]\n",
    "accidentes[0].head(5)"
   ]
  },
  {
   "cell_type": "code",
   "execution_count": null,
   "id": "3eece7bd",
   "metadata": {
    "scrolled": true
   },
   "outputs": [],
   "source": [
    "lista_muertos = list(accidentes[0].columns[accidentes[0].columns.str.endswith('MUERTO')])\n",
    "lista_heridos = list(accidentes[0].columns[accidentes[0].columns.str.endswith('HERIDO')])"
   ]
  },
  {
   "cell_type": "code",
   "execution_count": null,
   "id": "e7b7e214",
   "metadata": {},
   "outputs": [],
   "source": [
    "# Procedemos a limpiar y modificar los datos para que se apliquen en la tabla completa\n",
    "\n",
    "(accidentes[10] >> select(-_.COBERTURA,-_.CAPAROD,-_.ESTATUS)\n",
    "                >> left_join(_,edades,on='ID_EDAD')\n",
    "                >> left_join(_,meses,on='MES')\n",
    "                >> left_join(_,dias,on='ID_DIA')\n",
    "                >> left_join(_,horas,on='ID_HORA')\n",
    "                >> left_join(_,minutos,on='ID_MINUTO')\n",
    "                >> left_join(_,entidades,on='ID_ENTIDAD')\n",
    "                >> left_join(_,municipios,on=['ID_ENTIDAD','ID_MUNICIPIO'])\n",
    "                >> mutate(MUERTOS = accidentes[10][lista_muertos].sum(axis=1) )\n",
    "                >> mutate(HERIDOS = accidentes[10][lista_heridos].sum(axis=1) )\n",
    "                >> select(_['ANIO':'HERIDOS'],-_['ID_HORA':'ID_DIA'],-_[lista_muertos[0]:lista_heridos[-1]],-_.ID_EDAD)\n",
    "                >> select(_['ANIO':'DIASEMANA'],_['DESCRIPCION_MES':'HERIDOS'],_['URBANA':'DESC_EDAD'])\n",
    "                >> rename(DIA='DESC_DIA',HORAS='DESC_HORA',MINUTOS='DESC_MINUTO',ENTIDAD='NOM_ENTIDAD',MUNICIPIO='NOM_MUNICIPIO',EDAD='DESC_EDAD',NUM_MES='MES',MES='DESCRIPCION_MES')\n",
    "                >> mutate(RANGO_EDAD = if_else(_.EDAD < 18, 'Menor de Edad',\n",
    "                                               if_else(_.EDAD < 30, '18 a 29',\n",
    "                                                       if_else(_.EDAD < 40, '30 a 39',\n",
    "                                                               if_else(_.EDAD < 60, '40 a 59',\n",
    "                                                                       if_else(_.EDAD < 100, '60 o más','Desconocida'\n",
    "                                                                              )\n",
    "                                                                      )\n",
    "                                                              )\n",
    "                                                      )                               \n",
    "                                               )\n",
    "                         )\n",
    "                >> mutate(ANIO = _.ANIO.astype('Int64'))\n",
    "                >> mutate(MUNICIPIO = _.MUNICIPIO.fillna('Otros municipios'))\n",
    "                >> mutate(DIASEMANA = _.DIASEMANA.replace(['Miercoles','Sabado','lunes','Certificado cero'],['Miércoles','Sábado','Lunes','No especificado']))\n",
    "                ).head(5)"
   ]
  },
  {
   "cell_type": "code",
   "execution_count": null,
   "id": "537828b2",
   "metadata": {},
   "outputs": [],
   "source": [
    "# El siguiente paso es crear una función para que aplique el mismo proceso a las subtablas\n",
    "\n",
    "def ordenar(x):\n",
    "    auxiliar = (accidentes[x] >> select(-_.COBERTURA,-_.CAPAROD,-_.ESTATUS)\n",
    "                >> left_join(_,edades,on='ID_EDAD')\n",
    "                >> left_join(_,meses,on='MES')\n",
    "                >> left_join(_,dias,on='ID_DIA')\n",
    "                >> left_join(_,horas,on='ID_HORA')\n",
    "                >> left_join(_,minutos,on='ID_MINUTO')\n",
    "                >> left_join(_,entidades,on='ID_ENTIDAD')\n",
    "                >> left_join(_,municipios,on=['ID_ENTIDAD','ID_MUNICIPIO'])\n",
    "                >> mutate(MUERTOS = accidentes[x][lista_muertos].sum(axis=1) )\n",
    "                >> mutate(HERIDOS = accidentes[x][lista_heridos].sum(axis=1) )\n",
    "                >> select(_['ANIO':'HERIDOS'],-_['ID_HORA':'ID_DIA'],-_[lista_muertos[0]:lista_heridos[-1]],-_.ID_EDAD)\n",
    "                >> select(_['ANIO':'DIASEMANA'],_['DESCRIPCION_MES':'HERIDOS'],_['URBANA':'DESC_EDAD'])\n",
    "                >> rename(DIA='DESC_DIA',HORAS='DESC_HORA',MINUTOS='DESC_MINUTO',ENTIDAD='NOM_ENTIDAD',MUNICIPIO='NOM_MUNICIPIO',EDAD='DESC_EDAD',NUM_MES='MES',MES='DESCRIPCION_MES')\n",
    "                >> mutate(RANGO_EDAD = if_else(_.EDAD < 18, 'Menor de Edad',\n",
    "                                               if_else(_.EDAD < 30, '18 a 29',\n",
    "                                                       if_else(_.EDAD < 40, '30 a 39',\n",
    "                                                               if_else(_.EDAD < 60, '40 a 59',\n",
    "                                                                       if_else(_.EDAD < 100, '60 o más','Desconocida'\n",
    "                                                                              )\n",
    "                                                                      )\n",
    "                                                              )\n",
    "                                                      )                               \n",
    "                                               )\n",
    "                         )\n",
    "                >> mutate(ANIO = _.ANIO.astype('Int64'))\n",
    "                >> mutate(MUNICIPIO = _.MUNICIPIO.fillna('Otros municipios'))\n",
    "                >> mutate(DIASEMANA = _.DIASEMANA.replace(['Miercoles','Sabado','lunes','Certificado cero'],['Miércoles','Sábado','Lunes','No especificado']))\n",
    "                )\n",
    "    return auxiliar"
   ]
  },
  {
   "cell_type": "code",
   "execution_count": null,
   "id": "b7d2d3e1",
   "metadata": {
    "scrolled": false
   },
   "outputs": [],
   "source": [
    "# Se unen las tablas en una sola\n",
    "\n",
    "accidentes_viales = pd.concat([ordenar(x) for x in range(0,len(os.listdir()))])\n",
    "accidentes_viales.head(5)"
   ]
  },
  {
   "cell_type": "code",
   "execution_count": null,
   "id": "71109bfb",
   "metadata": {},
   "outputs": [],
   "source": [
    "# A partir de aquí comenzamos a hacer análisis\n",
    "primer = accidentes_viales['ANIO'][:1].item()\n",
    "ultimo = accidentes_viales['ANIO'][-1:].item()\n",
    "print(f'La siguiente tabla muestra los 10 entidades que han tenido más accidentes en el periodo {primer}-{ultimo}')"
   ]
  },
  {
   "cell_type": "code",
   "execution_count": null,
   "id": "181d3212",
   "metadata": {},
   "outputs": [],
   "source": [
    "Top10 = (accidentes_viales \n",
    "                >> group_by(_.ENTIDAD) \n",
    "                >> summarize(Total_accidentes = n(_), Total_muertos = _.MUERTOS.sum(), Total_heridos = _.HERIDOS.sum())\n",
    "                >> mutate(RelMuerto = ((100*_.Total_muertos)/_.Total_accidentes), RelHerido = ((100*_.Total_heridos)/_.Total_accidentes))\n",
    "                >> arrange(-_.Total_accidentes)\n",
    "                >> head(10)\n",
    ")\n",
    "Top10 >> rename(Entidad='ENTIDAD') >> mutate(Top = dense_rank(-_.Total_accidentes).astype(int)) >> select(_.Top,_['ENTIDAD':'RelHerido'])"
   ]
  },
  {
   "cell_type": "code",
   "execution_count": null,
   "id": "00af05a7",
   "metadata": {
    "scrolled": false
   },
   "outputs": [],
   "source": [
    "resumen = (accidentes_viales \n",
    "                >> filter(_.ENTIDAD.isin(Top10['ENTIDAD'].tolist()))\n",
    "                >> group_by(_.ENTIDAD,_.ANIO) \n",
    "                >> summarize(Total_accidentes = n(_), Total_muertos = _.MUERTOS.sum(), Total_heridos = _.HERIDOS.sum())\n",
    "                >> mutate(RelMuerto = ((100*_.Total_muertos)/_.Total_accidentes), RelHerido = ((100*_.Total_heridos)/_.Total_accidentes))\n",
    ")"
   ]
  },
  {
   "cell_type": "code",
   "execution_count": null,
   "id": "0fabd071",
   "metadata": {},
   "outputs": [],
   "source": [
    "(ggplot()\n",
    "         + geom_line(data=resumen,\n",
    "                     mapping=aes(x='ANIO.astype(\"str\")',\n",
    "                                 y='Total_accidentes',\n",
    "                                 group='ENTIDAD',\n",
    "                                 color='ENTIDAD'\n",
    "                                 )\n",
    "                     )\n",
    "         +facet_wrap('~ ENTIDAD')\n",
    "         + scale_x_discrete(breaks=resumen['ANIO'].astype('str').unique()[::10])\n",
    "         + labs(x='Año',y='Total Accidentes',title='Accidentes por Entidad 1997-2021 - Top 10',color='Entidad')\n",
    "         + theme(axis_text_x=element_text(angle=90, hjust=1))\n",
    "         + theme(figure_size=(8,5))\n",
    "         + theme(panel_background=element_rect('white'),panel_grid = element_line(color=\"darkgrey\",size=0.02))\n",
    "         + theme(rect=element_rect(size=0.05,fill='white'))\n",
    ")"
   ]
  },
  {
   "cell_type": "code",
   "execution_count": null,
   "id": "f397c1cd",
   "metadata": {},
   "outputs": [],
   "source": [
    "Diario =(accidentes_viales >> group_by(_.DIASEMANA,_.HORAS)\n",
    "                   >> summarize(TotalxHr = n(_))\n",
    "                   >> filter(-_.HORAS.isna())\n",
    "                   >> filter(_.DIASEMANA != 'No especificado')\n",
    ")"
   ]
  },
  {
   "cell_type": "code",
   "execution_count": null,
   "id": "1adfe6c7",
   "metadata": {},
   "outputs": [],
   "source": [
    "(ggplot(Diario, aes(x='HORAS.astype(\"str\").str.zfill(2)', y='TotalxHr',fill='DIASEMANA'))\n",
    "             + geom_col()\n",
    "             + facet_wrap('~ DIASEMANA',ncol=2)\n",
    "             + labs(x='Hora',y='Total de Accidentes', title='Accidentes por día y hora',fill='Día')\n",
    "             + scale_x_discrete(breaks=Diario['HORAS'].astype(\"str\").str.zfill(2).unique()[::])\n",
    "             + theme(axis_text_x=element_text(angle=90, hjust=1))\n",
    "             + theme(figure_size=(10,8))\n",
    "             + theme(panel_background=element_rect('white'),panel_grid = element_line(color=\"darkgrey\",size=0.02))\n",
    ")"
   ]
  },
  {
   "cell_type": "code",
   "execution_count": null,
   "id": "fb0a3dac",
   "metadata": {},
   "outputs": [],
   "source": [
    "tipo_accidente = (accidentes_viales  >> group_by(_.TIPACCID)\n",
    "                  >> summarize(total = n(_),total_muertos = _.MUERTOS.sum())\n",
    "                  >> mutate(rel_muertos = (_.total_muertos*100)/_.total)\n",
    "                  >> arrange(-_.rel_muertos,_.TIPACCID)\n",
    "                  >> rename(tipo='TIPACCID')\n",
    "                  >> filter(-_.tipo.isin(['Certificado cero']))\n",
    "                  >> ungroup()\n",
    ")"
   ]
  },
  {
   "cell_type": "code",
   "execution_count": null,
   "id": "46103f5d",
   "metadata": {},
   "outputs": [],
   "source": [
    "(ggplot(tipo_accidente, aes(x='tipo', y='total', color='rel_muertos' ,fill='rel_muertos')\n",
    "                        )\n",
    "             + geom_col()\n",
    "             + geom_text(aes(label='rel_muertos.round(2)'),va='bottom',color='black',size=10)\n",
    "             + scale_fill_gradient(low='yellow',high='red')\n",
    "             + scale_color_gradient(low='yellow',high='red')\n",
    "             + theme(axis_text_x=element_text(angle=90, hjust=1))\n",
    "             + labs(x='Tipo',y='Total accidentes',title='Accidentes por tipo y su\\nimpacto en mortalidad',fill='%Accidentes/Muertes',color='%Accidentes/Muertes')\n",
    "             + theme(panel_background=element_rect('white'),panel_grid = element_line(color=\"darkgrey\",size=0.05))\n",
    ")"
   ]
  },
  {
   "cell_type": "code",
   "execution_count": null,
   "id": "7dca2094",
   "metadata": {},
   "outputs": [],
   "source": [
    "Causas =(accidentes_viales >> group_by(_.CAUSAACCI)\n",
    "                   >> summarize(Total = n(_), Muertos = _.MUERTOS.sum())\n",
    "                   >> mutate(Rel_muertos = (_.Muertos*100)/_.Total)\n",
    "                   >> filter(_.CAUSAACCI != 'Certificado cero')\n",
    "                   >> rename(Causa='CAUSAACCI')\n",
    ")"
   ]
  },
  {
   "cell_type": "code",
   "execution_count": null,
   "id": "a6940a5c",
   "metadata": {},
   "outputs": [],
   "source": [
    "(ggplot(Causas,aes(x='Causa',y='Total',color='Rel_muertos',fill='Rel_muertos'))\n",
    "         + geom_col()\n",
    "         + geom_text(aes(label='Rel_muertos.round(2)'),va='bottom',color='black',size=10)\n",
    "         + scale_fill_gradient(low='yellow',high='red')\n",
    "         + scale_color_gradient(low='yellow',high='red')\n",
    "         + theme(axis_text_x=element_text(angle=90, hjust=1))\n",
    "         + labs(y='Total Accidentes',color='%Accidentes/Muertes',fill='%Accidentes/Muertes',title='Causas de accidentes y\\nsu impacto en la mortalidad')\n",
    "         + theme(panel_background=element_rect('white'),panel_grid = element_line(color=\"darkgrey\",size=0.02))\n",
    ")"
   ]
  }
 ],
 "metadata": {
  "kernelspec": {
   "display_name": "Python 3 (ipykernel)",
   "language": "python",
   "name": "python3"
  },
  "language_info": {
   "codemirror_mode": {
    "name": "ipython",
    "version": 3
   },
   "file_extension": ".py",
   "mimetype": "text/x-python",
   "name": "python",
   "nbconvert_exporter": "python",
   "pygments_lexer": "ipython3",
   "version": "3.9.13"
  }
 },
 "nbformat": 4,
 "nbformat_minor": 5
}
